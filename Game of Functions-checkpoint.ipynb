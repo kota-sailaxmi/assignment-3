{
 "cells": [
  {
   "cell_type": "code",
   "execution_count": null,
   "id": "e7251216",
   "metadata": {},
   "outputs": [],
   "source": [
    "# Write a Python function to sum all the numbers in a list."
   ]
  },
  {
   "cell_type": "code",
   "execution_count": 3,
   "id": "61ae1c4a",
   "metadata": {},
   "outputs": [
    {
     "name": "stdout",
     "output_type": "stream",
     "text": [
      "20\n"
     ]
    }
   ],
   "source": [
    "def sum(numbers):\n",
    "\n",
    "   total = 0\n",
    "\n",
    "   for x in numbers:\n",
    "\n",
    "       total += x\n",
    "\n",
    "   return total\n",
    "\n",
    "print(sum((8, 2, 3, 0, 7)))\n",
    "\n"
   ]
  },
  {
   "cell_type": "code",
   "execution_count": null,
   "id": "2b208010",
   "metadata": {},
   "outputs": [],
   "source": []
  }
 ],
 "metadata": {
  "kernelspec": {
   "display_name": "Python 3",
   "language": "python",
   "name": "python3"
  },
  "language_info": {
   "codemirror_mode": {
    "name": "ipython",
    "version": 3
   },
   "file_extension": ".py",
   "mimetype": "text/x-python",
   "name": "python",
   "nbconvert_exporter": "python",
   "pygments_lexer": "ipython3",
   "version": "3.8.8"
  }
 },
 "nbformat": 4,
 "nbformat_minor": 5
}
